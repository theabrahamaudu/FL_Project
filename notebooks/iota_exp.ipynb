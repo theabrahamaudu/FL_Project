{
 "cells": [
  {
   "cell_type": "code",
   "execution_count": 12,
   "metadata": {},
   "outputs": [],
   "source": [
    "from iota import Iota, TryteString, Address, Tag, ProposedTransaction\n",
    "from iota.adapter import HttpAdapter\n",
    "import requests\n",
    "from pprint import pprint"
   ]
  },
  {
   "cell_type": "code",
   "execution_count": 10,
   "metadata": {},
   "outputs": [],
   "source": [
    "api = Iota(\"http://localhost:14265\")#, local_pow=True, testnet=True)"
   ]
  },
  {
   "cell_type": "code",
   "execution_count": 17,
   "metadata": {},
   "outputs": [],
   "source": [
    "# Generate a random seed.\n",
    "api = Iota('http://localhost:14265')\n",
    "\n",
    "# Specify seed.\n",
    "api = Iota('http://localhost:14265', 'SEED9GOES9HERE')"
   ]
  },
  {
   "cell_type": "code",
   "execution_count": 18,
   "metadata": {},
   "outputs": [
    {
     "ename": "BadApiResponse",
     "evalue": "403 response from node: {'error': {'code': '403', 'message': 'Forbidden, error: code=403, message=Forbidden'}}",
     "output_type": "error",
     "traceback": [
      "\u001b[0;31m---------------------------------------------------------------------------\u001b[0m",
      "\u001b[0;31mBadApiResponse\u001b[0m                            Traceback (most recent call last)",
      "Cell \u001b[0;32mIn[18], line 1\u001b[0m\n\u001b[0;32m----> 1\u001b[0m \u001b[39mprint\u001b[39m(api\u001b[39m.\u001b[39;49mget_node_info())\n",
      "File \u001b[0;32m~/Documents/paid_gigs/FL_Project/.venv/lib/python3.10/site-packages/iota/api.py:426\u001b[0m, in \u001b[0;36mStrictIota.get_node_info\u001b[0;34m(self)\u001b[0m\n\u001b[1;32m    417\u001b[0m \u001b[39mdef\u001b[39;00m \u001b[39mget_node_info\u001b[39m(\u001b[39mself\u001b[39m):\n\u001b[1;32m    418\u001b[0m     \u001b[39m# type: () -> dict\u001b[39;00m\n\u001b[1;32m    419\u001b[0m \u001b[39m    \u001b[39m\u001b[39m\"\"\"\u001b[39;00m\n\u001b[1;32m    420\u001b[0m \u001b[39m    Returns information about the node.\u001b[39;00m\n\u001b[1;32m    421\u001b[0m \n\u001b[0;32m   (...)\u001b[0m\n\u001b[1;32m    424\u001b[0m \u001b[39m    - https://docs.iota.org/docs/node-software/0.1/iri/references/api-reference#getnodeinfo\u001b[39;00m\n\u001b[1;32m    425\u001b[0m \u001b[39m    \"\"\"\u001b[39;00m\n\u001b[0;32m--> 426\u001b[0m     \u001b[39mreturn\u001b[39;00m core\u001b[39m.\u001b[39;49mGetNodeInfoCommand(\u001b[39mself\u001b[39;49m\u001b[39m.\u001b[39;49madapter)()\n",
      "File \u001b[0;32m~/Documents/paid_gigs/FL_Project/.venv/lib/python3.10/site-packages/iota/commands/__init__.py:130\u001b[0m, in \u001b[0;36mBaseCommand.__call__\u001b[0;34m(self, **kwargs)\u001b[0m\n\u001b[1;32m    127\u001b[0m \u001b[39mif\u001b[39;00m replacement \u001b[39mis\u001b[39;00m \u001b[39mnot\u001b[39;00m \u001b[39mNone\u001b[39;00m:\n\u001b[1;32m    128\u001b[0m   \u001b[39mself\u001b[39m\u001b[39m.\u001b[39mrequest \u001b[39m=\u001b[39m replacement\n\u001b[0;32m--> 130\u001b[0m \u001b[39mself\u001b[39m\u001b[39m.\u001b[39mresponse \u001b[39m=\u001b[39m \u001b[39mself\u001b[39;49m\u001b[39m.\u001b[39;49m_execute(\u001b[39mself\u001b[39;49m\u001b[39m.\u001b[39;49mrequest)\n\u001b[1;32m    132\u001b[0m replacement \u001b[39m=\u001b[39m \u001b[39mself\u001b[39m\u001b[39m.\u001b[39m_prepare_response(\u001b[39mself\u001b[39m\u001b[39m.\u001b[39mresponse)\n\u001b[1;32m    133\u001b[0m \u001b[39mif\u001b[39;00m replacement \u001b[39mis\u001b[39;00m \u001b[39mnot\u001b[39;00m \u001b[39mNone\u001b[39;00m:\n",
      "File \u001b[0;32m~/Documents/paid_gigs/FL_Project/.venv/lib/python3.10/site-packages/iota/commands/__init__.py:158\u001b[0m, in \u001b[0;36mBaseCommand._execute\u001b[0;34m(self, request)\u001b[0m\n\u001b[1;32m    151\u001b[0m \u001b[39m\u001b[39m\u001b[39m\"\"\"\u001b[39;00m\n\u001b[1;32m    152\u001b[0m \u001b[39mSends the request object to the adapter and returns the response.\u001b[39;00m\n\u001b[1;32m    153\u001b[0m \n\u001b[1;32m    154\u001b[0m \u001b[39mThe command name will be automatically injected into the request\u001b[39;00m\n\u001b[1;32m    155\u001b[0m \u001b[39mbefore it is sent (note: this will modify the request object).\u001b[39;00m\n\u001b[1;32m    156\u001b[0m \u001b[39m\"\"\"\u001b[39;00m\n\u001b[1;32m    157\u001b[0m request[\u001b[39m'\u001b[39m\u001b[39mcommand\u001b[39m\u001b[39m'\u001b[39m] \u001b[39m=\u001b[39m \u001b[39mself\u001b[39m\u001b[39m.\u001b[39mcommand\n\u001b[0;32m--> 158\u001b[0m \u001b[39mreturn\u001b[39;00m \u001b[39mself\u001b[39;49m\u001b[39m.\u001b[39;49madapter\u001b[39m.\u001b[39;49msend_request(request)\n",
      "File \u001b[0;32m~/Documents/paid_gigs/FL_Project/.venv/lib/python3.10/site-packages/iota/adapter/__init__.py:320\u001b[0m, in \u001b[0;36mHttpAdapter.send_request\u001b[0;34m(self, payload, **kwargs)\u001b[0m\n\u001b[1;32m    309\u001b[0m     kwargs[\u001b[39m'\u001b[39m\u001b[39mheaders\u001b[39m\u001b[39m'\u001b[39m]\u001b[39m.\u001b[39msetdefault(key, value)\n\u001b[1;32m    311\u001b[0m response \u001b[39m=\u001b[39m \u001b[39mself\u001b[39m\u001b[39m.\u001b[39m_send_http_request(\n\u001b[1;32m    312\u001b[0m     \u001b[39m# Use a custom JSON encoder that knows how to convert Tryte\u001b[39;00m\n\u001b[1;32m    313\u001b[0m     \u001b[39m# values.\u001b[39;00m\n\u001b[0;32m   (...)\u001b[0m\n\u001b[1;32m    317\u001b[0m     \u001b[39m*\u001b[39m\u001b[39m*\u001b[39mkwargs\n\u001b[1;32m    318\u001b[0m )\n\u001b[0;32m--> 320\u001b[0m \u001b[39mreturn\u001b[39;00m \u001b[39mself\u001b[39;49m\u001b[39m.\u001b[39;49m_interpret_response(response, payload, {codes[\u001b[39m'\u001b[39;49m\u001b[39mok\u001b[39;49m\u001b[39m'\u001b[39;49m]})\n",
      "File \u001b[0;32m~/Documents/paid_gigs/FL_Project/.venv/lib/python3.10/site-packages/iota/adapter/__init__.py:455\u001b[0m, in \u001b[0;36mHttpAdapter._interpret_response\u001b[0;34m(self, response, payload, expected_status)\u001b[0m\n\u001b[1;32m    452\u001b[0m \u001b[39mexcept\u001b[39;00m \u001b[39mKeyError\u001b[39;00m:\n\u001b[1;32m    453\u001b[0m     \u001b[39mpass\u001b[39;00m\n\u001b[0;32m--> 455\u001b[0m \u001b[39mraise\u001b[39;00m with_context(\n\u001b[1;32m    456\u001b[0m     exc\u001b[39m=\u001b[39mBadApiResponse(\n\u001b[1;32m    457\u001b[0m         \u001b[39m'\u001b[39m\u001b[39m{status}\u001b[39;00m\u001b[39m response from node: \u001b[39m\u001b[39m{error}\u001b[39;00m\u001b[39m'\u001b[39m\u001b[39m.\u001b[39mformat(\n\u001b[1;32m    458\u001b[0m             error\u001b[39m=\u001b[39merror \u001b[39mor\u001b[39;00m decoded,\n\u001b[1;32m    459\u001b[0m             status\u001b[39m=\u001b[39mresponse\u001b[39m.\u001b[39mstatus_code,\n\u001b[1;32m    460\u001b[0m         ),\n\u001b[1;32m    461\u001b[0m     ),\n\u001b[1;32m    462\u001b[0m \n\u001b[1;32m    463\u001b[0m     context\u001b[39m=\u001b[39m{\n\u001b[1;32m    464\u001b[0m         \u001b[39m'\u001b[39m\u001b[39mrequest\u001b[39m\u001b[39m'\u001b[39m: payload,\n\u001b[1;32m    465\u001b[0m         \u001b[39m'\u001b[39m\u001b[39mresponse\u001b[39m\u001b[39m'\u001b[39m: decoded,\n\u001b[1;32m    466\u001b[0m     },\n\u001b[1;32m    467\u001b[0m )\n",
      "\u001b[0;31mBadApiResponse\u001b[0m: 403 response from node: {'error': {'code': '403', 'message': 'Forbidden, error: code=403, message=Forbidden'}}"
     ]
    }
   ],
   "source": [
    "print(api.get_node_info())"
   ]
  },
  {
   "cell_type": "code",
   "execution_count": 8,
   "metadata": {},
   "outputs": [
    {
     "ename": "BadApiResponse",
     "evalue": "403 response from node: {'error': {'code': '403', 'message': 'Forbidden, error: code=403, message=Forbidden'}}",
     "output_type": "error",
     "traceback": [
      "\u001b[0;31m---------------------------------------------------------------------------\u001b[0m",
      "\u001b[0;31mBadApiResponse\u001b[0m                            Traceback (most recent call last)",
      "Cell \u001b[0;32mIn[8], line 1\u001b[0m\n\u001b[0;32m----> 1\u001b[0m \u001b[39mprint\u001b[39m(api\u001b[39m.\u001b[39;49mget_node_info())\n",
      "File \u001b[0;32m~/Documents/paid_gigs/FL_Project/.venv/lib/python3.10/site-packages/iota/api.py:426\u001b[0m, in \u001b[0;36mStrictIota.get_node_info\u001b[0;34m(self)\u001b[0m\n\u001b[1;32m    417\u001b[0m \u001b[39mdef\u001b[39;00m \u001b[39mget_node_info\u001b[39m(\u001b[39mself\u001b[39m):\n\u001b[1;32m    418\u001b[0m     \u001b[39m# type: () -> dict\u001b[39;00m\n\u001b[1;32m    419\u001b[0m \u001b[39m    \u001b[39m\u001b[39m\"\"\"\u001b[39;00m\n\u001b[1;32m    420\u001b[0m \u001b[39m    Returns information about the node.\u001b[39;00m\n\u001b[1;32m    421\u001b[0m \n\u001b[0;32m   (...)\u001b[0m\n\u001b[1;32m    424\u001b[0m \u001b[39m    - https://docs.iota.org/docs/node-software/0.1/iri/references/api-reference#getnodeinfo\u001b[39;00m\n\u001b[1;32m    425\u001b[0m \u001b[39m    \"\"\"\u001b[39;00m\n\u001b[0;32m--> 426\u001b[0m     \u001b[39mreturn\u001b[39;00m core\u001b[39m.\u001b[39;49mGetNodeInfoCommand(\u001b[39mself\u001b[39;49m\u001b[39m.\u001b[39;49madapter)()\n",
      "File \u001b[0;32m~/Documents/paid_gigs/FL_Project/.venv/lib/python3.10/site-packages/iota/commands/__init__.py:130\u001b[0m, in \u001b[0;36mBaseCommand.__call__\u001b[0;34m(self, **kwargs)\u001b[0m\n\u001b[1;32m    127\u001b[0m \u001b[39mif\u001b[39;00m replacement \u001b[39mis\u001b[39;00m \u001b[39mnot\u001b[39;00m \u001b[39mNone\u001b[39;00m:\n\u001b[1;32m    128\u001b[0m   \u001b[39mself\u001b[39m\u001b[39m.\u001b[39mrequest \u001b[39m=\u001b[39m replacement\n\u001b[0;32m--> 130\u001b[0m \u001b[39mself\u001b[39m\u001b[39m.\u001b[39mresponse \u001b[39m=\u001b[39m \u001b[39mself\u001b[39;49m\u001b[39m.\u001b[39;49m_execute(\u001b[39mself\u001b[39;49m\u001b[39m.\u001b[39;49mrequest)\n\u001b[1;32m    132\u001b[0m replacement \u001b[39m=\u001b[39m \u001b[39mself\u001b[39m\u001b[39m.\u001b[39m_prepare_response(\u001b[39mself\u001b[39m\u001b[39m.\u001b[39mresponse)\n\u001b[1;32m    133\u001b[0m \u001b[39mif\u001b[39;00m replacement \u001b[39mis\u001b[39;00m \u001b[39mnot\u001b[39;00m \u001b[39mNone\u001b[39;00m:\n",
      "File \u001b[0;32m~/Documents/paid_gigs/FL_Project/.venv/lib/python3.10/site-packages/iota/commands/__init__.py:158\u001b[0m, in \u001b[0;36mBaseCommand._execute\u001b[0;34m(self, request)\u001b[0m\n\u001b[1;32m    151\u001b[0m \u001b[39m\u001b[39m\u001b[39m\"\"\"\u001b[39;00m\n\u001b[1;32m    152\u001b[0m \u001b[39mSends the request object to the adapter and returns the response.\u001b[39;00m\n\u001b[1;32m    153\u001b[0m \n\u001b[1;32m    154\u001b[0m \u001b[39mThe command name will be automatically injected into the request\u001b[39;00m\n\u001b[1;32m    155\u001b[0m \u001b[39mbefore it is sent (note: this will modify the request object).\u001b[39;00m\n\u001b[1;32m    156\u001b[0m \u001b[39m\"\"\"\u001b[39;00m\n\u001b[1;32m    157\u001b[0m request[\u001b[39m'\u001b[39m\u001b[39mcommand\u001b[39m\u001b[39m'\u001b[39m] \u001b[39m=\u001b[39m \u001b[39mself\u001b[39m\u001b[39m.\u001b[39mcommand\n\u001b[0;32m--> 158\u001b[0m \u001b[39mreturn\u001b[39;00m \u001b[39mself\u001b[39;49m\u001b[39m.\u001b[39;49madapter\u001b[39m.\u001b[39;49msend_request(request)\n",
      "File \u001b[0;32m~/Documents/paid_gigs/FL_Project/.venv/lib/python3.10/site-packages/iota/adapter/__init__.py:320\u001b[0m, in \u001b[0;36mHttpAdapter.send_request\u001b[0;34m(self, payload, **kwargs)\u001b[0m\n\u001b[1;32m    309\u001b[0m     kwargs[\u001b[39m'\u001b[39m\u001b[39mheaders\u001b[39m\u001b[39m'\u001b[39m]\u001b[39m.\u001b[39msetdefault(key, value)\n\u001b[1;32m    311\u001b[0m response \u001b[39m=\u001b[39m \u001b[39mself\u001b[39m\u001b[39m.\u001b[39m_send_http_request(\n\u001b[1;32m    312\u001b[0m     \u001b[39m# Use a custom JSON encoder that knows how to convert Tryte\u001b[39;00m\n\u001b[1;32m    313\u001b[0m     \u001b[39m# values.\u001b[39;00m\n\u001b[0;32m   (...)\u001b[0m\n\u001b[1;32m    317\u001b[0m     \u001b[39m*\u001b[39m\u001b[39m*\u001b[39mkwargs\n\u001b[1;32m    318\u001b[0m )\n\u001b[0;32m--> 320\u001b[0m \u001b[39mreturn\u001b[39;00m \u001b[39mself\u001b[39;49m\u001b[39m.\u001b[39;49m_interpret_response(response, payload, {codes[\u001b[39m'\u001b[39;49m\u001b[39mok\u001b[39;49m\u001b[39m'\u001b[39;49m]})\n",
      "File \u001b[0;32m~/Documents/paid_gigs/FL_Project/.venv/lib/python3.10/site-packages/iota/adapter/__init__.py:455\u001b[0m, in \u001b[0;36mHttpAdapter._interpret_response\u001b[0;34m(self, response, payload, expected_status)\u001b[0m\n\u001b[1;32m    452\u001b[0m \u001b[39mexcept\u001b[39;00m \u001b[39mKeyError\u001b[39;00m:\n\u001b[1;32m    453\u001b[0m     \u001b[39mpass\u001b[39;00m\n\u001b[0;32m--> 455\u001b[0m \u001b[39mraise\u001b[39;00m with_context(\n\u001b[1;32m    456\u001b[0m     exc\u001b[39m=\u001b[39mBadApiResponse(\n\u001b[1;32m    457\u001b[0m         \u001b[39m'\u001b[39m\u001b[39m{status}\u001b[39;00m\u001b[39m response from node: \u001b[39m\u001b[39m{error}\u001b[39;00m\u001b[39m'\u001b[39m\u001b[39m.\u001b[39mformat(\n\u001b[1;32m    458\u001b[0m             error\u001b[39m=\u001b[39merror \u001b[39mor\u001b[39;00m decoded,\n\u001b[1;32m    459\u001b[0m             status\u001b[39m=\u001b[39mresponse\u001b[39m.\u001b[39mstatus_code,\n\u001b[1;32m    460\u001b[0m         ),\n\u001b[1;32m    461\u001b[0m     ),\n\u001b[1;32m    462\u001b[0m \n\u001b[1;32m    463\u001b[0m     context\u001b[39m=\u001b[39m{\n\u001b[1;32m    464\u001b[0m         \u001b[39m'\u001b[39m\u001b[39mrequest\u001b[39m\u001b[39m'\u001b[39m: payload,\n\u001b[1;32m    465\u001b[0m         \u001b[39m'\u001b[39m\u001b[39mresponse\u001b[39m\u001b[39m'\u001b[39m: decoded,\n\u001b[1;32m    466\u001b[0m     },\n\u001b[1;32m    467\u001b[0m )\n",
      "\u001b[0;31mBadApiResponse\u001b[0m: 403 response from node: {'error': {'code': '403', 'message': 'Forbidden, error: code=403, message=Forbidden'}}"
     ]
    }
   ],
   "source": [
    "print(api.get_node_info())"
   ]
  },
  {
   "cell_type": "code",
   "execution_count": 9,
   "metadata": {},
   "outputs": [
    {
     "ename": "InvalidCommand",
     "evalue": "Iota does not support 'get_info' command.",
     "output_type": "error",
     "traceback": [
      "\u001b[0;31m---------------------------------------------------------------------------\u001b[0m",
      "\u001b[0;31mKeyError\u001b[0m                                  Traceback (most recent call last)",
      "File \u001b[0;32m~/Documents/paid_gigs/FL_Project/.venv/lib/python3.10/site-packages/iota/api.py:129\u001b[0m, in \u001b[0;36mStrictIota.__getattr__\u001b[0;34m(self, command)\u001b[0m\n\u001b[1;32m    128\u001b[0m \u001b[39mtry\u001b[39;00m:\n\u001b[0;32m--> 129\u001b[0m     command_class \u001b[39m=\u001b[39m \u001b[39mself\u001b[39;49m\u001b[39m.\u001b[39;49mcommands[command]\n\u001b[1;32m    130\u001b[0m \u001b[39mexcept\u001b[39;00m \u001b[39mKeyError\u001b[39;00m:\n",
      "\u001b[0;31mKeyError\u001b[0m: 'get_info'",
      "\nDuring handling of the above exception, another exception occurred:\n",
      "\u001b[0;31mInvalidCommand\u001b[0m                            Traceback (most recent call last)",
      "Cell \u001b[0;32mIn[9], line 2\u001b[0m\n\u001b[1;32m      1\u001b[0m \u001b[39m# Request information about the node\u001b[39;00m\n\u001b[0;32m----> 2\u001b[0m response \u001b[39m=\u001b[39m api\u001b[39m.\u001b[39;49mget_info()\n\u001b[1;32m      4\u001b[0m \u001b[39m# Using pprint instead of print for a nicer looking result in the console\u001b[39;00m\n\u001b[1;32m      5\u001b[0m pprint(response)\n",
      "File \u001b[0;32m~/Documents/paid_gigs/FL_Project/.venv/lib/python3.10/site-packages/iota/api.py:131\u001b[0m, in \u001b[0;36mStrictIota.__getattr__\u001b[0;34m(self, command)\u001b[0m\n\u001b[1;32m    129\u001b[0m     command_class \u001b[39m=\u001b[39m \u001b[39mself\u001b[39m\u001b[39m.\u001b[39mcommands[command]\n\u001b[1;32m    130\u001b[0m \u001b[39mexcept\u001b[39;00m \u001b[39mKeyError\u001b[39;00m:\n\u001b[0;32m--> 131\u001b[0m     \u001b[39mraise\u001b[39;00m InvalidCommand(\n\u001b[1;32m    132\u001b[0m         \u001b[39m'\u001b[39m\u001b[39m{cls}\u001b[39;00m\u001b[39m does not support \u001b[39m\u001b[39m{command!r}\u001b[39;00m\u001b[39m command.\u001b[39m\u001b[39m'\u001b[39m\u001b[39m.\u001b[39mformat(\n\u001b[1;32m    133\u001b[0m             \u001b[39mcls\u001b[39m\u001b[39m=\u001b[39m\u001b[39mtype\u001b[39m(\u001b[39mself\u001b[39m)\u001b[39m.\u001b[39m\u001b[39m__name__\u001b[39m,\n\u001b[1;32m    134\u001b[0m             command\u001b[39m=\u001b[39mcommand,\n\u001b[1;32m    135\u001b[0m         ),\n\u001b[1;32m    136\u001b[0m     )\n\u001b[1;32m    138\u001b[0m \u001b[39mreturn\u001b[39;00m command_class(\u001b[39mself\u001b[39m\u001b[39m.\u001b[39madapter)\n",
      "\u001b[0;31mInvalidCommand\u001b[0m: Iota does not support 'get_info' command."
     ]
    }
   ],
   "source": [
    "# Request information about the node\n",
    "response = api.get_info()\n",
    "\n",
    "# Using pprint instead of print for a nicer looking result in the console\n",
    "pprint(response)"
   ]
  },
  {
   "cell_type": "code",
   "execution_count": 11,
   "metadata": {},
   "outputs": [],
   "source": [
    "# Prepare custom data\n",
    "my_data = TryteString.from_unicode('Hello from the Tangle!')\n",
    "\n",
    "# Generate a random address that doesn't have to belong to anyone\n",
    "my_address = Address.random(81)\n",
    "\n",
    "# Tag is optional here\n",
    "my_tag = Tag(b'MY9FIRST9TAG')\n",
    "\n",
    "# Prepare a transaction object\n",
    "tx = ProposedTransaction(\n",
    "    address=my_address,\n",
    "    value=0,\n",
    "    tag=my_tag,\n",
    "    message=my_data\n",
    ")"
   ]
  },
  {
   "cell_type": "code",
   "execution_count": 12,
   "metadata": {},
   "outputs": [
    {
     "ename": "BadApiResponse",
     "evalue": "403 response from node: {'error': {'code': '403', 'message': 'Forbidden, error: code=403, message=Forbidden'}}",
     "output_type": "error",
     "traceback": [
      "\u001b[1;31m---------------------------------------------------------------------------\u001b[0m",
      "\u001b[1;31mBadApiResponse\u001b[0m                            Traceback (most recent call last)",
      "Cell \u001b[1;32mIn[12], line 2\u001b[0m\n\u001b[0;32m      1\u001b[0m \u001b[39m# Send the transaction to the network\u001b[39;00m\n\u001b[1;32m----> 2\u001b[0m response \u001b[39m=\u001b[39m api\u001b[39m.\u001b[39;49msend_transfer([tx])\n\u001b[0;32m      4\u001b[0m pprint(\u001b[39m'\u001b[39m\u001b[39mCheck your transaction on the Tangle!\u001b[39m\u001b[39m'\u001b[39m)\n\u001b[0;32m      5\u001b[0m pprint(\u001b[39m'\u001b[39m\u001b[39mhttps://utils.iota.org/transaction/\u001b[39m\u001b[39m%s\u001b[39;00m\u001b[39m/devnet\u001b[39m\u001b[39m'\u001b[39m \u001b[39m%\u001b[39m response[\u001b[39m'\u001b[39m\u001b[39mbundle\u001b[39m\u001b[39m'\u001b[39m][\u001b[39m0\u001b[39m]\u001b[39m.\u001b[39mhash)\n",
      "File \u001b[1;32mc:\\Users\\Abraham Audu\\Documents\\BizDocs Files\\Fed_Learning\\FL_Project\\.venv\\lib\\site-packages\\iota\\api.py:1191\u001b[0m, in \u001b[0;36mIota.send_transfer\u001b[1;34m(self, transfers, depth, inputs, change_address, min_weight_magnitude, security_level)\u001b[0m\n\u001b[0;32m   1188\u001b[0m \u001b[39mif\u001b[39;00m min_weight_magnitude \u001b[39mis\u001b[39;00m \u001b[39mNone\u001b[39;00m:\n\u001b[0;32m   1189\u001b[0m     min_weight_magnitude \u001b[39m=\u001b[39m \u001b[39mself\u001b[39m\u001b[39m.\u001b[39mdefault_min_weight_magnitude\n\u001b[1;32m-> 1191\u001b[0m \u001b[39mreturn\u001b[39;00m extended\u001b[39m.\u001b[39;49mSendTransferCommand(\u001b[39mself\u001b[39;49m\u001b[39m.\u001b[39;49madapter)(\n\u001b[0;32m   1192\u001b[0m     seed\u001b[39m=\u001b[39;49m\u001b[39mself\u001b[39;49m\u001b[39m.\u001b[39;49mseed,\n\u001b[0;32m   1193\u001b[0m     depth\u001b[39m=\u001b[39;49mdepth,\n\u001b[0;32m   1194\u001b[0m     transfers\u001b[39m=\u001b[39;49mtransfers,\n\u001b[0;32m   1195\u001b[0m     inputs\u001b[39m=\u001b[39;49minputs,\n\u001b[0;32m   1196\u001b[0m     changeAddress\u001b[39m=\u001b[39;49mchange_address,\n\u001b[0;32m   1197\u001b[0m     minWeightMagnitude\u001b[39m=\u001b[39;49mmin_weight_magnitude,\n\u001b[0;32m   1198\u001b[0m     securityLevel\u001b[39m=\u001b[39;49msecurity_level,\n\u001b[0;32m   1199\u001b[0m )\n",
      "File \u001b[1;32mc:\\Users\\Abraham Audu\\Documents\\BizDocs Files\\Fed_Learning\\FL_Project\\.venv\\lib\\site-packages\\iota\\commands\\__init__.py:130\u001b[0m, in \u001b[0;36mBaseCommand.__call__\u001b[1;34m(self, **kwargs)\u001b[0m\n\u001b[0;32m    127\u001b[0m \u001b[39mif\u001b[39;00m replacement \u001b[39mis\u001b[39;00m \u001b[39mnot\u001b[39;00m \u001b[39mNone\u001b[39;00m:\n\u001b[0;32m    128\u001b[0m   \u001b[39mself\u001b[39m\u001b[39m.\u001b[39mrequest \u001b[39m=\u001b[39m replacement\n\u001b[1;32m--> 130\u001b[0m \u001b[39mself\u001b[39m\u001b[39m.\u001b[39mresponse \u001b[39m=\u001b[39m \u001b[39mself\u001b[39;49m\u001b[39m.\u001b[39;49m_execute(\u001b[39mself\u001b[39;49m\u001b[39m.\u001b[39;49mrequest)\n\u001b[0;32m    132\u001b[0m replacement \u001b[39m=\u001b[39m \u001b[39mself\u001b[39m\u001b[39m.\u001b[39m_prepare_response(\u001b[39mself\u001b[39m\u001b[39m.\u001b[39mresponse)\n\u001b[0;32m    133\u001b[0m \u001b[39mif\u001b[39;00m replacement \u001b[39mis\u001b[39;00m \u001b[39mnot\u001b[39;00m \u001b[39mNone\u001b[39;00m:\n",
      "File \u001b[1;32mc:\\Users\\Abraham Audu\\Documents\\BizDocs Files\\Fed_Learning\\FL_Project\\.venv\\lib\\site-packages\\iota\\commands\\extended\\send_transfer.py:53\u001b[0m, in \u001b[0;36mSendTransferCommand._execute\u001b[1;34m(self, request)\u001b[0m\n\u001b[0;32m     43\u001b[0m security_level \u001b[39m=\u001b[39m request[\u001b[39m'\u001b[39m\u001b[39msecurityLevel\u001b[39m\u001b[39m'\u001b[39m]  \u001b[39m# int\u001b[39;00m\n\u001b[0;32m     45\u001b[0m pt_response \u001b[39m=\u001b[39m PrepareTransferCommand(\u001b[39mself\u001b[39m\u001b[39m.\u001b[39madapter)(\n\u001b[0;32m     46\u001b[0m     changeAddress\u001b[39m=\u001b[39mchange_address,\n\u001b[0;32m     47\u001b[0m     inputs\u001b[39m=\u001b[39minputs,\n\u001b[1;32m   (...)\u001b[0m\n\u001b[0;32m     50\u001b[0m     securityLevel\u001b[39m=\u001b[39msecurity_level,\n\u001b[0;32m     51\u001b[0m )\n\u001b[1;32m---> 53\u001b[0m st_response \u001b[39m=\u001b[39m SendTrytesCommand(\u001b[39mself\u001b[39;49m\u001b[39m.\u001b[39;49madapter)(\n\u001b[0;32m     54\u001b[0m     depth\u001b[39m=\u001b[39;49mdepth,\n\u001b[0;32m     55\u001b[0m     minWeightMagnitude\u001b[39m=\u001b[39;49mmin_weight_magnitude,\n\u001b[0;32m     56\u001b[0m     trytes\u001b[39m=\u001b[39;49mpt_response[\u001b[39m'\u001b[39;49m\u001b[39mtrytes\u001b[39;49m\u001b[39m'\u001b[39;49m],\n\u001b[0;32m     57\u001b[0m     reference\u001b[39m=\u001b[39;49mreference,\n\u001b[0;32m     58\u001b[0m )\n\u001b[0;32m     60\u001b[0m \u001b[39mreturn\u001b[39;00m {\n\u001b[0;32m     61\u001b[0m     \u001b[39m'\u001b[39m\u001b[39mbundle\u001b[39m\u001b[39m'\u001b[39m: Bundle\u001b[39m.\u001b[39mfrom_tryte_strings(st_response[\u001b[39m'\u001b[39m\u001b[39mtrytes\u001b[39m\u001b[39m'\u001b[39m]),\n\u001b[0;32m     62\u001b[0m }\n",
      "File \u001b[1;32mc:\\Users\\Abraham Audu\\Documents\\BizDocs Files\\Fed_Learning\\FL_Project\\.venv\\lib\\site-packages\\iota\\commands\\__init__.py:130\u001b[0m, in \u001b[0;36mBaseCommand.__call__\u001b[1;34m(self, **kwargs)\u001b[0m\n\u001b[0;32m    127\u001b[0m \u001b[39mif\u001b[39;00m replacement \u001b[39mis\u001b[39;00m \u001b[39mnot\u001b[39;00m \u001b[39mNone\u001b[39;00m:\n\u001b[0;32m    128\u001b[0m   \u001b[39mself\u001b[39m\u001b[39m.\u001b[39mrequest \u001b[39m=\u001b[39m replacement\n\u001b[1;32m--> 130\u001b[0m \u001b[39mself\u001b[39m\u001b[39m.\u001b[39mresponse \u001b[39m=\u001b[39m \u001b[39mself\u001b[39;49m\u001b[39m.\u001b[39;49m_execute(\u001b[39mself\u001b[39;49m\u001b[39m.\u001b[39;49mrequest)\n\u001b[0;32m    132\u001b[0m replacement \u001b[39m=\u001b[39m \u001b[39mself\u001b[39m\u001b[39m.\u001b[39m_prepare_response(\u001b[39mself\u001b[39m\u001b[39m.\u001b[39mresponse)\n\u001b[0;32m    133\u001b[0m \u001b[39mif\u001b[39;00m replacement \u001b[39mis\u001b[39;00m \u001b[39mnot\u001b[39;00m \u001b[39mNone\u001b[39;00m:\n",
      "File \u001b[1;32mc:\\Users\\Abraham Audu\\Documents\\BizDocs Files\\Fed_Learning\\FL_Project\\.venv\\lib\\site-packages\\iota\\commands\\extended\\send_trytes.py:44\u001b[0m, in \u001b[0;36mSendTrytesCommand._execute\u001b[1;34m(self, request)\u001b[0m\n\u001b[0;32m     40\u001b[0m reference \u001b[39m=\u001b[39m request[\u001b[39m'\u001b[39m\u001b[39mreference\u001b[39m\u001b[39m'\u001b[39m]  \u001b[39m# type: Optional[TransactionHash]\u001b[39;00m\n\u001b[0;32m     42\u001b[0m \u001b[39m# Call ``getTransactionsToApprove`` to locate trunk and branch\u001b[39;00m\n\u001b[0;32m     43\u001b[0m \u001b[39m# transactions so that we can attach the bundle to the Tangle.\u001b[39;00m\n\u001b[1;32m---> 44\u001b[0m gta_response \u001b[39m=\u001b[39m GetTransactionsToApproveCommand(\u001b[39mself\u001b[39;49m\u001b[39m.\u001b[39;49madapter)(\n\u001b[0;32m     45\u001b[0m     depth\u001b[39m=\u001b[39;49mdepth,\n\u001b[0;32m     46\u001b[0m     reference\u001b[39m=\u001b[39;49mreference,\n\u001b[0;32m     47\u001b[0m )\n\u001b[0;32m     49\u001b[0m att_response \u001b[39m=\u001b[39m AttachToTangleCommand(\u001b[39mself\u001b[39m\u001b[39m.\u001b[39madapter)(\n\u001b[0;32m     50\u001b[0m     branchTransaction\u001b[39m=\u001b[39mgta_response\u001b[39m.\u001b[39mget(\u001b[39m'\u001b[39m\u001b[39mbranchTransaction\u001b[39m\u001b[39m'\u001b[39m),\n\u001b[0;32m     51\u001b[0m     trunkTransaction\u001b[39m=\u001b[39mgta_response\u001b[39m.\u001b[39mget(\u001b[39m'\u001b[39m\u001b[39mtrunkTransaction\u001b[39m\u001b[39m'\u001b[39m),\n\u001b[1;32m   (...)\u001b[0m\n\u001b[0;32m     54\u001b[0m     trytes\u001b[39m=\u001b[39mtrytes,\n\u001b[0;32m     55\u001b[0m )\n\u001b[0;32m     57\u001b[0m \u001b[39m# ``trytes`` now have POW!\u001b[39;00m\n",
      "File \u001b[1;32mc:\\Users\\Abraham Audu\\Documents\\BizDocs Files\\Fed_Learning\\FL_Project\\.venv\\lib\\site-packages\\iota\\commands\\__init__.py:130\u001b[0m, in \u001b[0;36mBaseCommand.__call__\u001b[1;34m(self, **kwargs)\u001b[0m\n\u001b[0;32m    127\u001b[0m \u001b[39mif\u001b[39;00m replacement \u001b[39mis\u001b[39;00m \u001b[39mnot\u001b[39;00m \u001b[39mNone\u001b[39;00m:\n\u001b[0;32m    128\u001b[0m   \u001b[39mself\u001b[39m\u001b[39m.\u001b[39mrequest \u001b[39m=\u001b[39m replacement\n\u001b[1;32m--> 130\u001b[0m \u001b[39mself\u001b[39m\u001b[39m.\u001b[39mresponse \u001b[39m=\u001b[39m \u001b[39mself\u001b[39;49m\u001b[39m.\u001b[39;49m_execute(\u001b[39mself\u001b[39;49m\u001b[39m.\u001b[39;49mrequest)\n\u001b[0;32m    132\u001b[0m replacement \u001b[39m=\u001b[39m \u001b[39mself\u001b[39m\u001b[39m.\u001b[39m_prepare_response(\u001b[39mself\u001b[39m\u001b[39m.\u001b[39mresponse)\n\u001b[0;32m    133\u001b[0m \u001b[39mif\u001b[39;00m replacement \u001b[39mis\u001b[39;00m \u001b[39mnot\u001b[39;00m \u001b[39mNone\u001b[39;00m:\n",
      "File \u001b[1;32mc:\\Users\\Abraham Audu\\Documents\\BizDocs Files\\Fed_Learning\\FL_Project\\.venv\\lib\\site-packages\\iota\\commands\\__init__.py:158\u001b[0m, in \u001b[0;36mBaseCommand._execute\u001b[1;34m(self, request)\u001b[0m\n\u001b[0;32m    151\u001b[0m \u001b[39m\u001b[39m\u001b[39m\"\"\"\u001b[39;00m\n\u001b[0;32m    152\u001b[0m \u001b[39mSends the request object to the adapter and returns the response.\u001b[39;00m\n\u001b[0;32m    153\u001b[0m \n\u001b[0;32m    154\u001b[0m \u001b[39mThe command name will be automatically injected into the request\u001b[39;00m\n\u001b[0;32m    155\u001b[0m \u001b[39mbefore it is sent (note: this will modify the request object).\u001b[39;00m\n\u001b[0;32m    156\u001b[0m \u001b[39m\"\"\"\u001b[39;00m\n\u001b[0;32m    157\u001b[0m request[\u001b[39m'\u001b[39m\u001b[39mcommand\u001b[39m\u001b[39m'\u001b[39m] \u001b[39m=\u001b[39m \u001b[39mself\u001b[39m\u001b[39m.\u001b[39mcommand\n\u001b[1;32m--> 158\u001b[0m \u001b[39mreturn\u001b[39;00m \u001b[39mself\u001b[39;49m\u001b[39m.\u001b[39;49madapter\u001b[39m.\u001b[39;49msend_request(request)\n",
      "File \u001b[1;32mc:\\Users\\Abraham Audu\\Documents\\BizDocs Files\\Fed_Learning\\FL_Project\\.venv\\lib\\site-packages\\iota\\adapter\\__init__.py:320\u001b[0m, in \u001b[0;36mHttpAdapter.send_request\u001b[1;34m(self, payload, **kwargs)\u001b[0m\n\u001b[0;32m    309\u001b[0m     kwargs[\u001b[39m'\u001b[39m\u001b[39mheaders\u001b[39m\u001b[39m'\u001b[39m]\u001b[39m.\u001b[39msetdefault(key, value)\n\u001b[0;32m    311\u001b[0m response \u001b[39m=\u001b[39m \u001b[39mself\u001b[39m\u001b[39m.\u001b[39m_send_http_request(\n\u001b[0;32m    312\u001b[0m     \u001b[39m# Use a custom JSON encoder that knows how to convert Tryte\u001b[39;00m\n\u001b[0;32m    313\u001b[0m     \u001b[39m# values.\u001b[39;00m\n\u001b[1;32m   (...)\u001b[0m\n\u001b[0;32m    317\u001b[0m     \u001b[39m*\u001b[39m\u001b[39m*\u001b[39mkwargs\n\u001b[0;32m    318\u001b[0m )\n\u001b[1;32m--> 320\u001b[0m \u001b[39mreturn\u001b[39;00m \u001b[39mself\u001b[39;49m\u001b[39m.\u001b[39;49m_interpret_response(response, payload, {codes[\u001b[39m'\u001b[39;49m\u001b[39mok\u001b[39;49m\u001b[39m'\u001b[39;49m]})\n",
      "File \u001b[1;32mc:\\Users\\Abraham Audu\\Documents\\BizDocs Files\\Fed_Learning\\FL_Project\\.venv\\lib\\site-packages\\iota\\adapter\\__init__.py:455\u001b[0m, in \u001b[0;36mHttpAdapter._interpret_response\u001b[1;34m(self, response, payload, expected_status)\u001b[0m\n\u001b[0;32m    452\u001b[0m \u001b[39mexcept\u001b[39;00m \u001b[39mKeyError\u001b[39;00m:\n\u001b[0;32m    453\u001b[0m     \u001b[39mpass\u001b[39;00m\n\u001b[1;32m--> 455\u001b[0m \u001b[39mraise\u001b[39;00m with_context(\n\u001b[0;32m    456\u001b[0m     exc\u001b[39m=\u001b[39mBadApiResponse(\n\u001b[0;32m    457\u001b[0m         \u001b[39m'\u001b[39m\u001b[39m{status}\u001b[39;00m\u001b[39m response from node: \u001b[39m\u001b[39m{error}\u001b[39;00m\u001b[39m'\u001b[39m\u001b[39m.\u001b[39mformat(\n\u001b[0;32m    458\u001b[0m             error\u001b[39m=\u001b[39merror \u001b[39mor\u001b[39;00m decoded,\n\u001b[0;32m    459\u001b[0m             status\u001b[39m=\u001b[39mresponse\u001b[39m.\u001b[39mstatus_code,\n\u001b[0;32m    460\u001b[0m         ),\n\u001b[0;32m    461\u001b[0m     ),\n\u001b[0;32m    462\u001b[0m \n\u001b[0;32m    463\u001b[0m     context\u001b[39m=\u001b[39m{\n\u001b[0;32m    464\u001b[0m         \u001b[39m'\u001b[39m\u001b[39mrequest\u001b[39m\u001b[39m'\u001b[39m: payload,\n\u001b[0;32m    465\u001b[0m         \u001b[39m'\u001b[39m\u001b[39mresponse\u001b[39m\u001b[39m'\u001b[39m: decoded,\n\u001b[0;32m    466\u001b[0m     },\n\u001b[0;32m    467\u001b[0m )\n",
      "\u001b[1;31mBadApiResponse\u001b[0m: 403 response from node: {'error': {'code': '403', 'message': 'Forbidden, error: code=403, message=Forbidden'}}"
     ]
    }
   ],
   "source": [
    "# Send the transaction to the network\n",
    "response = api.send_transfer([tx])\n",
    "\n",
    "pprint('Check your transaction on the Tangle!')\n",
    "pprint('https://utils.iota.org/transaction/%s/devnet' % response['bundle'][0].hash)"
   ]
  },
  {
   "cell_type": "code",
   "execution_count": null,
   "metadata": {},
   "outputs": [],
   "source": []
  }
 ],
 "metadata": {
  "kernelspec": {
   "display_name": ".venv",
   "language": "python",
   "name": "python3"
  },
  "language_info": {
   "codemirror_mode": {
    "name": "ipython",
    "version": 3
   },
   "file_extension": ".py",
   "mimetype": "text/x-python",
   "name": "python",
   "nbconvert_exporter": "python",
   "pygments_lexer": "ipython3",
   "version": "3.10.12"
  },
  "orig_nbformat": 4
 },
 "nbformat": 4,
 "nbformat_minor": 2
}
